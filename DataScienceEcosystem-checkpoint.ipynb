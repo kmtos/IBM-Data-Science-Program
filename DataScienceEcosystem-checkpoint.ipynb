{
 "cells": [
  {
   "cell_type": "markdown",
   "id": "97d2008f-0bc4-48f0-b766-9d1b25614c8b",
   "metadata": {},
   "source": [
    "# Data Science Tools and Ecosystem\n"
   ]
  },
  {
   "cell_type": "markdown",
   "id": "f98f40eb-e324-4961-bd20-be55bb59e530",
   "metadata": {},
   "source": [
    "### In this notebook, Data Science Tools and Ecosystems are summarized"
   ]
  },
  {
   "cell_type": "markdown",
   "id": "d5619eff-2db2-4577-a180-b5d46583c718",
   "metadata": {},
   "source": [
    "#### Objectives:\n",
    "* Listing popular languages, libraries, and open source tools.\n",
    "* Examples of markdown styles and headers\n",
    "* Examples of markdown tables\n",
    "* Examples of arithmetic expressions"
   ]
  },
  {
   "cell_type": "markdown",
   "id": "a2223d0b-3a92-4016-8faf-9439da266034",
   "metadata": {},
   "source": [
    "#### Some of the popular languages that Data Scientists use are:\n",
    " 1. python\n",
    " 2. R\n",
    " 3. C++"
   ]
  },
  {
   "cell_type": "markdown",
   "id": "1b1928c8-7f57-471a-80b5-c4fa7ebdec7e",
   "metadata": {},
   "source": [
    "#### Some commonly used libraries used by Data Scientists include:\n",
    "1. MunPy\n",
    "2. Scikit-learn\n",
    "3. pandas"
   ]
  },
  {
   "cell_type": "markdown",
   "id": "91e5e20e-9e38-4cab-85a0-cd411ea33ba0",
   "metadata": {},
   "source": [
    "Data Science Tools | \n",
    "---:|\n",
    "Pandas |\n",
    "Hadoop | \n",
    "Spark | "
   ]
  },
  {
   "cell_type": "markdown",
   "id": "e3aa9142-f456-4624-8253-63b0efa2ae73",
   "metadata": {},
   "source": [
    "### Below are a few examples of evaluating arithmetic expressions in Python\n"
   ]
  },
  {
   "cell_type": "code",
   "execution_count": 1,
   "id": "89a8d46a-d370-4630-8197-33e5dea424d5",
   "metadata": {},
   "outputs": [
    {
     "name": "stdout",
     "output_type": "stream",
     "text": [
      "7\n"
     ]
    }
   ],
   "source": [
    "x = 3\n",
    "y = 4\n",
    "z = x+y\n",
    "print(z)"
   ]
  },
  {
   "cell_type": "code",
   "execution_count": 2,
   "id": "2847369b-9814-46da-b322-5f0f3705502c",
   "metadata": {},
   "outputs": [
    {
     "name": "stdout",
     "output_type": "stream",
     "text": [
      "17\n"
     ]
    }
   ],
   "source": [
    "# This is a simple arithmetic expression to multiply then add integers\n",
    "z=(3*4)+5\n",
    "print(z)"
   ]
  },
  {
   "cell_type": "code",
   "execution_count": 3,
   "id": "c50dc17b-54f9-426f-beaa-ac96e886d587",
   "metadata": {},
   "outputs": [
    {
     "name": "stdout",
     "output_type": "stream",
     "text": [
      "3.3333333333333335\n"
     ]
    }
   ],
   "source": [
    "# This will convert 200 minutes to hours by dividing by 60\n",
    "min = 200\n",
    "hours = 200 / 60\n",
    "print (hours)"
   ]
  },
  {
   "cell_type": "code",
   "execution_count": null,
   "id": "f901680e-9c23-4cf2-89e8-13b081b938f7",
   "metadata": {},
   "outputs": [],
   "source": []
  }
 ],
 "metadata": {
  "kernelspec": {
   "display_name": "Python 3 (ipykernel)",
   "language": "python",
   "name": "python3"
  },
  "language_info": {
   "codemirror_mode": {
    "name": "ipython",
    "version": 3
   },
   "file_extension": ".py",
   "mimetype": "text/x-python",
   "name": "python",
   "nbconvert_exporter": "python",
   "pygments_lexer": "ipython3",
   "version": "3.10.9"
  }
 },
 "nbformat": 4,
 "nbformat_minor": 5
}
